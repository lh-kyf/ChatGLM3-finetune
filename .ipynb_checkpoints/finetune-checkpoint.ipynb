{
 "cells": [
  {
   "cell_type": "code",
   "execution_count": 1,
   "id": "initial_id",
   "metadata": {},
   "outputs": [
    {
     "name": "stdout",
     "output_type": "stream",
     "text": [
      "\n",
      "===================================BUG REPORT===================================\n",
      "Welcome to bitsandbytes. For bug reports, please submit your error trace to: https://github.com/TimDettmers/bitsandbytes/issues\n",
      "================================================================================\n",
      "CUDA SETUP: CUDA runtime path found: /usr/local/cuda/lib64/libcudart.so\n",
      "CUDA SETUP: Highest compute capability among GPUs detected: 8.6\n",
      "CUDA SETUP: Detected CUDA version 113\n",
      "CUDA SETUP: Loading binary /data/zym_conda/envs/DeepLearning/lib/python3.10/site-packages/bitsandbytes/libbitsandbytes_cuda113.so...\n"
     ]
    },
    {
     "name": "stderr",
     "output_type": "stream",
     "text": [
      "/data/zym_conda/envs/DeepLearning/lib/python3.10/site-packages/bitsandbytes/cuda_setup/main.py:136: UserWarning: /data/zym_conda/envs/DeepLearning did not contain libcudart.so as expected! Searching further paths...\n",
      "  warn(msg)\n"
     ]
    }
   ],
   "source": [
    "import torch\n",
    "from datasets import Dataset\n",
    "from transformers import AutoTokenizer, AutoModelForCausalLM, DataCollatorForSeq2Seq, TrainingArguments, Trainer\n",
    "import json\n",
    "from peft import TaskType, get_peft_model, LoraConfig, PromptEncoderConfig, PromptEncoderReparameterizationType\n",
    "\n",
    "MAX_LENGTH = 512"
   ]
  },
  {
   "cell_type": "code",
   "execution_count": null,
   "id": "6bb233fe8beb081f",
   "metadata": {
    "collapsed": false,
    "jupyter": {
     "outputs_hidden": false
    }
   },
   "outputs": [],
   "source": [
    "# 数据处理流程,参考GLM3仓库:https://github.com/THUDM/ChatGLM3/blob/main/finetune_chatmodel_demo/preprocess_utils\n",
    "def process_func(example):\n",
    "    input_ids, labels = [], []\n",
    "    instruction = tokenizer.encode(text=\"\\n\".join([\"<|system|>\", \"你是一个诚实而优秀的中国人助手。\", \"<|user|>\",\n",
    "                                                   example[\"instruction\"] + example[\n",
    "                                                       \"input\"] + \"<|assistant|>\"]).strip() + \"\\n\",\n",
    "                                   add_special_tokens=True, truncation=True, max_length=MAX_LENGTH)\n",
    "    response = tokenizer.encode(text=example[\"output\"], add_special_tokens=False, truncation=True,\n",
    "                                max_length=MAX_LENGTH)\n",
    "    input_ids = instruction + response + [tokenizer.eos_token_id]\n",
    "    labels = [tokenizer.pad_token_id] * len(instruction) + response + [tokenizer.eos_token_id]\n",
    "    pad_len = MAX_LENGTH - len(input_ids)\n",
    "    # print()\n",
    "    input_ids += [tokenizer.pad_token_id] * pad_len\n",
    "    labels += [tokenizer.pad_token_id] * pad_len\n",
    "    labels = [(l if l != tokenizer.pad_token_id else -100) for l in labels]\n",
    "\n",
    "    return {\n",
    "        \"input_ids\": input_ids,\n",
    "        \"labels\": labels\n",
    "    }"
   ]
  },
  {
   "cell_type": "code",
   "execution_count": null,
   "id": "ef535155346b717f",
   "metadata": {
    "collapsed": false,
    "jupyter": {
     "outputs_hidden": false
    }
   },
   "outputs": [],
   "source": [
    "args = TrainingArguments(\n",
    "    output_dir=\"./output/ChatGLM3-Lora-sc2\",\n",
    "    per_device_train_batch_size=1,\n",
    "    gradient_accumulation_steps=32,\n",
    "    logging_steps=20,\n",
    "    num_train_epochs=1\n",
    ")"
   ]
  },
  {
   "cell_type": "code",
   "execution_count": null,
   "id": "4918ae082ba3195",
   "metadata": {
    "collapsed": false,
    "jupyter": {
     "outputs_hidden": false
    }
   },
   "outputs": [],
   "source": [
    "# 加载数据\n",
    "file_path = '/mnt/data/self_cognition_lh.json'\n",
    "with open(file_path, 'r', encoding='utf-8') as file:\n",
    "    data = json.load(file)\n",
    "\n",
    "# 将JSON数据转换为Dataset对象\n",
    "dataset = Dataset.from_dict(data)"
   ]
  },
  {
   "cell_type": "code",
   "execution_count": null,
   "id": "33e21b8cdcd973ce",
   "metadata": {
    "collapsed": false,
    "jupyter": {
     "outputs_hidden": false
    }
   },
   "outputs": [],
   "source": [
    "# 加载tokenizer\n",
    "tokenizer = AutoTokenizer.from_pretrained(\"./model/chatglm3-6b\", trust_remote_code=True)\n",
    "\n",
    "# 应用数据处理函数\n",
    "processed_dataset = dataset.map(lambda example: process_func(example, tokenizer))\n",
    "\n",
    "# 创建模型\n",
    "model = AutoModelForCausalLM.from_pretrained(\"./model/chatglm3-6b\", trust_remote_code=True, low_cpu_mem_usage=True)"
   ]
  },
  {
   "cell_type": "code",
   "execution_count": null,
   "id": "ca519f23b93d73dc",
   "metadata": {
    "collapsed": false,
    "jupyter": {
     "outputs_hidden": false
    }
   },
   "outputs": [],
   "source": [
    "# # 创建loRA参数\n",
    "config = LoraConfig(task_type=TaskType.CAUSAL_LM, target_modules={\"query_key_value\"}, r=8, lora_alpha=32)\n",
    "\n",
    "# 创建Ptuning参数\n",
    "# config = PromptEncoderConfig(task_type=TaskType.CAUSAL_LM, num_virtual_tokens=10,\n",
    "#                             encoder_reparameterization_type=PromptEncoderReparameterizationType.MLP,\n",
    "#                             encoder_dropout=0, encoder_num_layers=5, encoder_hidden_size=1024)\n",
    "\n",
    "# 添加adapter\n",
    "model = get_peft_model(model, config)"
   ]
  },
  {
   "cell_type": "code",
   "execution_count": null,
   "id": "a5984d59a9e77caf",
   "metadata": {
    "collapsed": false,
    "jupyter": {
     "outputs_hidden": false
    }
   },
   "outputs": [],
   "source": [
    "# 指定GLM的Data collator\n",
    "data_collator = DataCollatorForSeq2Seq(\n",
    "    tokenizer,\n",
    "    model=model,\n",
    "    label_pad_token_id=-100,\n",
    "    pad_to_multiple_of=None,\n",
    "    padding=False\n",
    ")"
   ]
  },
  {
   "cell_type": "code",
   "execution_count": null,
   "id": "cd7fd84e07c4552b",
   "metadata": {
    "collapsed": false,
    "jupyter": {
     "outputs_hidden": false
    }
   },
   "outputs": [],
   "source": [
    "# 指定训练参数。\n",
    "trainer = Trainer(\n",
    "    model=model,\n",
    "    args=args,\n",
    "    train_dataset=processed_dataset,\n",
    "    data_collator=data_collator,\n",
    ")\n",
    "    # 开始训练\n",
    "trainer.train()"
   ]
  }
 ],
 "metadata": {
  "kernelspec": {
   "display_name": "Python 3 (ipykernel)",
   "language": "python",
   "name": "python3"
  },
  "language_info": {
   "codemirror_mode": {
    "name": "ipython",
    "version": 3
   },
   "file_extension": ".py",
   "mimetype": "text/x-python",
   "name": "python",
   "nbconvert_exporter": "python",
   "pygments_lexer": "ipython3",
   "version": "3.10.13"
  }
 },
 "nbformat": 4,
 "nbformat_minor": 5
}
