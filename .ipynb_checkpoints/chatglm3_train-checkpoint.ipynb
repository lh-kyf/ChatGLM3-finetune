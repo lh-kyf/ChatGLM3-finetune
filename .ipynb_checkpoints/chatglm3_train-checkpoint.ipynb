{
 "cells": [
  {
   "cell_type": "code",
   "execution_count": 1,
   "id": "3efe9146-ff2a-4ef8-a499-e1d2fa88d6e6",
   "metadata": {
    "tags": []
   },
   "outputs": [],
   "source": [
    "from transformers import AutoTokenizer, AutoModel"
   ]
  },
  {
   "cell_type": "code",
   "execution_count": 2,
   "id": "28f09a4e-234b-4beb-be91-2a36c98ab87a",
   "metadata": {
    "tags": []
   },
   "outputs": [
    {
     "name": "stdout",
     "output_type": "stream",
     "text": [
      "/data/zym_conda/envs/DeepLearning/bin/python\n"
     ]
    }
   ],
   "source": [
    "# 查看环境\n",
    "import sys\n",
    "print(sys.executable)"
   ]
  },
  {
   "cell_type": "markdown",
   "id": "084594e3-c3cc-4dcb-a8bf-d1e7ec552be2",
   "metadata": {},
   "source": [
    "# 加载数据集"
   ]
  },
  {
   "cell_type": "code",
   "execution_count": null,
   "id": "a10cc67e-8f12-40f3-b747-067aa4a7ed2c",
   "metadata": {},
   "outputs": [],
   "source": [
    "from datasets import load_from_disk\n",
    "\n",
    "#从本地磁盘加载数据 需要Hugging Face datasets 库创建的数据集目录\n",
    "# datasets = load_from_disk('./data/glue_sst2')"
   ]
  },
  {
   "cell_type": "code",
   "execution_count": null,
   "id": "2e4666d0-1509-4908-b2ba-11d576b3a271",
   "metadata": {},
   "outputs": [],
   "source": [
    "from datasets import load_dataset\n",
    "\n",
    "#从网络加载\n",
    "#datasets = load_dataset(path='glue', name='sst2')"
   ]
  },
  {
   "cell_type": "code",
   "execution_count": null,
   "id": "0c018143-aa2c-407f-b977-b886a0c3cfe8",
   "metadata": {},
   "outputs": [],
   "source": []
  }
 ],
 "metadata": {
  "kernelspec": {
   "display_name": "Python 3 (ipykernel)",
   "language": "python",
   "name": "python3"
  },
  "language_info": {
   "codemirror_mode": {
    "name": "ipython",
    "version": 3
   },
   "file_extension": ".py",
   "mimetype": "text/x-python",
   "name": "python",
   "nbconvert_exporter": "python",
   "pygments_lexer": "ipython3",
   "version": "3.10.13"
  }
 },
 "nbformat": 4,
 "nbformat_minor": 5
}
