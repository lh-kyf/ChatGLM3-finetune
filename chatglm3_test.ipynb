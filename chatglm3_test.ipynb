{
 "cells": [
  {
   "cell_type": "code",
   "execution_count": 1,
   "id": "4950b2c2-5081-407f-8a28-a76d1cee6d77",
   "metadata": {
    "tags": []
   },
   "outputs": [],
   "source": [
    "from transformers import AutoTokenizer, AutoModel"
   ]
  },
  {
   "cell_type": "code",
   "execution_count": 2,
   "id": "4bdae80d-261f-4218-8443-fb5d58d2aef9",
   "metadata": {
    "tags": []
   },
   "outputs": [
    {
     "data": {
      "application/vnd.jupyter.widget-view+json": {
       "model_id": "152db36ffafe4d1ab9dfce702a23c762",
       "version_major": 2,
       "version_minor": 0
      },
      "text/plain": [
       "Loading checkpoint shards:   0%|          | 0/7 [00:00<?, ?it/s]"
      ]
     },
     "metadata": {},
     "output_type": "display_data"
    }
   ],
   "source": [
    "tokenizer = AutoTokenizer.from_pretrained(\"/data/zym_proj/huan/models/chatglm3-6b/snapshots/d3fe58f8a2c50bab217780ba8bd3ff76833d2d0c\", trust_remote_code=True)\n",
    "\n",
    "model = AutoModel.from_pretrained(\"/data/zym_proj/huan/models/chatglm3-6b/snapshots/d3fe58f8a2c50bab217780ba8bd3ff76833d2d0c\", trust_remote_code=True).half().cuda()"
   ]
  },
  {
   "cell_type": "code",
   "execution_count": 3,
   "id": "2a3489e6-9f62-4ac2-9616-7ccc8c9c664a",
   "metadata": {},
   "outputs": [],
   "source": [
    "model = model.eval()"
   ]
  },
  {
   "cell_type": "code",
   "execution_count": 7,
   "id": "c768eb59-8443-409f-ba12-26401a61f35f",
   "metadata": {},
   "outputs": [
    {
     "name": "stdout",
     "output_type": "stream",
     "text": [
      "你好👋！我是人工智能助手 ChatGLM3-6B，很高兴见到你，欢迎问我任何问题。\n",
      "晚上睡不着的原因有很多，比如压力、焦虑、疲劳等。以下是一些建议，帮助你更容易入睡：\n",
      "\n",
      "1. 保持规律作息：每天尽量在相同的时间上床睡觉和起床，有助于调整你的生物钟。\n",
      "\n",
      "2. 创造一个舒适的睡眠环境：保持卧室温度适中、光线柔和、噪音低，并使用舒适的床上用品。\n",
      "\n",
      "3. 避免咖啡因和酒精：咖啡因和酒精都可能影响睡眠质量，尽量避免在晚上摄入。\n",
      "\n",
      "4. 适量运动：白天进行适量运动，有助于消耗多余的能量，晚上更容易入睡。但避免在临近睡觉前进行剧烈运动。\n",
      "\n",
      "5. 放松身心：在睡前进行一些放松活动，如深呼吸、瑜伽、听轻音乐等，有助于减轻压力和放松身心。\n",
      "\n",
      "6. 避免使用电子产品：睡前避免使用手机、电脑等电子产品，因为屏幕的蓝光可能会影响你的睡眠。\n",
      "\n",
      "7. 尝试冥想或深呼吸：在睡前尝试冥想或深呼吸，有助于放松身心，让你更容易入睡。\n",
      "\n",
      "如果以上方法都不能解决问题，建议寻求专业医生的帮助，以便找到更适合你的解决方案。\n"
     ]
    }
   ],
   "source": [
    "response, history = model.chat(tokenizer, \"你好\", history=[])\n",
    "print(response)\n",
    "response, history = model.chat(tokenizer, \"晚上睡不着应该怎么办\", history=history)\n",
    "print(response)"
   ]
  },
  {
   "cell_type": "code",
   "execution_count": 6,
   "id": "f464ba7c-180b-43d5-af51-f419c1218ce9",
   "metadata": {},
   "outputs": [
    {
     "name": "stdout",
     "output_type": "stream",
     "text": [
      "/data/zym_conda/envs/DeepLearning/bin/python\n"
     ]
    }
   ],
   "source": [
    "import sys\n",
    "print(sys.executable)"
   ]
  },
  {
   "cell_type": "code",
   "execution_count": null,
   "id": "a1394087-e8ef-4e84-a117-2d889c8720ce",
   "metadata": {},
   "outputs": [],
   "source": []
  }
 ],
 "metadata": {
  "kernelspec": {
   "display_name": "Python 3 (ipykernel)",
   "language": "python",
   "name": "python3"
  },
  "language_info": {
   "codemirror_mode": {
    "name": "ipython",
    "version": 3
   },
   "file_extension": ".py",
   "mimetype": "text/x-python",
   "name": "python",
   "nbconvert_exporter": "python",
   "pygments_lexer": "ipython3",
   "version": "3.10.13"
  }
 },
 "nbformat": 4,
 "nbformat_minor": 5
}
